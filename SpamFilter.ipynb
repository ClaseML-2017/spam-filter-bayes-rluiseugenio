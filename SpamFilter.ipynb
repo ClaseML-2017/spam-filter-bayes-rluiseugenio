{
 "cells": [
  {
   "cell_type": "code",
   "execution_count": null,
   "metadata": {
    "collapsed": true
   },
   "outputs": [],
   "source": [
    "import math                                             #Math como en C#\n",
    "import numpy as np   \n",
    "import pandas as pd\n",
    "from scipy.stats import norm                            #scipy contiene la paqueteria de estadistica\n",
    "from sklearn.cross_validation import train_test_split   #sklearn contiene la paqueteria de seleccion de datos\n",
    "from sklearn.naive_bayes import GaussianNB as nb        #Algoritmo de Naive Bayes\n",
    "\n",
    "#Leer archivo\n",
    "df = pd.read_csv(\"spambase.data\")\n",
    "\n",
    "\n",
    "#X es una de las columnas, Y si es spam o no\n",
    "X_train, X_test, Y_train, Y_test = train_test_split(df[df.columns[0:57]],df[df.columns[-1]], train_size=0.75)\n",
    "\n",
    "#Calculo de la probabilidad prior\n",
    "\n",
    "spamset = Y_train == 1\n",
    "nspamset = Y_train == 0\n",
    "\n",
    "#Dado spam\n",
    "pspam = len(Y_train[spamset]) / len(Y_train)\n",
    "logpspam = math.log(pspam)\n",
    "\n",
    "#Dado no spams\n",
    "pnspam = len(nspamset) / len(Y_train)\n",
    "logpnspam = math.log(pnspam)\n",
    "\n",
    "#Calcular la media y la desviación estandar para calcular la probabilidad de clase y la probabilidad total\n",
    "#Supuesto esférico\n",
    "spammean = X_train[spamset].mean()\n",
    "spamstd = X_train[spamset].std()\n",
    "\n",
    "nspammean = X_train[nspamset].mean()\n",
    "nspamstd = X_train[nspamset].std()\n",
    "\n",
    "#Ya entrenamos el modelo, ahora hay que evaluarlo con el set de entrenaminto\n",
    "#La función pdf devuelve la altura de un punto de la distribucion estandar norm.pdf(x,m,std)\n",
    "a = pd.DataFrame([np.log(norm.cdf(X_test[i],loc = spammean[i], scale = spamstd[i])) for i in X_test.columns]).sum()\n",
    "b = pd.DataFrame([np.log(norm.cdf(X_test[i],loc = nspammean[i], scale = nspamstd[i])) for i in X_test.columns]).sum()\n",
    "spam = a > b\n",
    "\n",
    "#Checar los resultados del algoritmo contra el algoritmo en sklearn\n",
    "model = nb()\n",
    "model.fit(X_train,Y_train)\n",
    "res = model.predict(X_test)\n",
    "\n",
    "check = []\n",
    "for i in range(len(spam)):\n",
    "    if (spam[i] == True and res[i] == 1) or (spam[i] == False and res[i] == 0): check.append(i)\n",
    "print 'Programa vs SKlearn: ' + str(len(check)/len(spam))\n",
    "\n",
    "\n",
    "from sklearn.metrics import accuracy_score\n",
    "print 'Modelo programado: ' + str(accuracy_score(Y_test,spam))\n",
    "print 'Modelo sklearn: ' + str(accuracy_score(Y_test,res))"
   ]
  }
 ],
 "metadata": {
  "anaconda-cloud": {},
  "kernelspec": {
   "display_name": "Python [Root]",
   "language": "python",
   "name": "Python [Root]"
  },
  "language_info": {
   "codemirror_mode": {
    "name": "ipython",
    "version": 2
   },
   "file_extension": ".py",
   "mimetype": "text/x-python",
   "name": "python",
   "nbconvert_exporter": "python",
   "pygments_lexer": "ipython2",
   "version": "2.7.12"
  }
 },
 "nbformat": 4,
 "nbformat_minor": 0
}
